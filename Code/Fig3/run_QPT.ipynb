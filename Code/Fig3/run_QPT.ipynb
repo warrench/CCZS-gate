{
 "cells": [
  {
   "cell_type": "code",
   "execution_count": null,
   "metadata": {},
   "outputs": [],
   "source": [
    "from jax import numpy as jnp\n",
    "from jax import vmap\n",
    "from jax.config import config\n",
    "\n",
    "from qutip import basis, tensor, qeye, sigmax, sigmay, sigmaz, Qobj, fidelity\n",
    "from qutip.superop_reps import to_kraus, to_chi, to_choi, sprepost, kraus_to_choi, choi_to_chi, _pauli_basis, choi_to_kraus, kraus_to_choi\n",
    "from qutip.qip.operations import rx, ry, rz\n",
    "from qutip.tomography import qpt_plot_combined\n",
    "from qutip.tomography import qpt as qpt_matrix\n",
    "\n",
    "import numpy as np\n",
    "import qutip as qt\n",
    "from plotting_functions import hinton_phase, plot_comparison\n",
    "from qpt_utils import tensor_product_list, dag, convert_to_jax, plot_comparison, Choi\n",
    "from qpt_functions import *\n",
    "\n",
    "from tqdm.auto import tqdm\n",
    "\n",
    "import matplotlib.pyplot as plt\n",
    "from matplotlib import cm\n",
    "from qutip import settings\n",
    "\n",
    "from itertools import product\n",
    "\n",
    "config.update('jax_enable_x64', True)\n",
    "\n",
    "import scipy.optimize as opt\n",
    "\n",
    "#plt.rc('text', usetex=True)\n",
    "# plt.rc('text.latex', preamble=r'\\usepackage{amsmath} \\usepackage{physics}')\n",
    "\n",
    "%load_ext autoreload\n",
    "%autoreload 2"
   ]
  },
  {
   "cell_type": "markdown",
   "metadata": {},
   "source": [
    "# Load the data"
   ]
  },
  {
   "cell_type": "code",
   "execution_count": null,
   "metadata": {},
   "outputs": [],
   "source": [
    "n_qubit = 3\n",
    "\n",
    "N_samples = 10000 # Number of samples for each probe and measurement going into the outcome frequencies\n",
    "\n",
    "phi=np.linspace(0, -np.pi, 5)  # Some sign issue I wasn't able to trace back might need to change here to get the proper phases from the data\n",
    "phi_id = 0 # Choose which phi to reconstruct out of [0, pi/4, pi/2, 3pi/2, pi]\n",
    "\n",
    "targ_phi = phi[phi_id]\n",
    "\n",
    "# Shape = [phi_id, n_probes, n_meas, outcome_freqs] = [5, 4^n_qubit, 3^n_qubit, 2^N_qubits]\n",
    "data = np.load(r'..\\..\\Data\\Fig3 Data\\QPT_Data\\3Q_QPT_250ns_all_phi.npy')\n",
    "\n",
    "\n",
    "# Select just the data corresponding to phi target\n",
    "data_raw = data[phi_id, :, :, :]"
   ]
  },
  {
   "cell_type": "markdown",
   "metadata": {},
   "source": [
    "# Constructing the ideal initial states, rotation operators and measurement POVMs"
   ]
  },
  {
   "cell_type": "code",
   "execution_count": null,
   "metadata": {},
   "outputs": [],
   "source": [
    "op_basis = [[qt.qeye(2), qt.sigmax(), qt.sigmay(), qt.sigmaz()]] * n_qubit\n",
    "op_label = [['i', 'x', 'y', 'z']] * n_qubit\n",
    "\n",
    "# Generate measurement labels\n",
    "measurement_labels = list(product(['0', '1'], repeat=n_qubit))\n",
    "\n",
    "#Note the sequence for the measurements are slightly different for the processing\n",
    "#Introduce measurement mask to switch order of each state probability in the array\n",
    "# mapping from |Q2,Q1,Q0> to |Q0,Q1,Q2>\n",
    "measurement_idx = (0, 4, 2, 6, 1, 5, 3, 7)\n",
    "measurement_labels = [\"\".join(p) for p in measurement_labels]\n",
    "\n",
    "#Basis probe states\n",
    "ground = basis(2, 0)\n",
    "excited = basis(2, 1)\n",
    "plus = (ground + excited).unit()\n",
    "imag = (ground + 1j*excited).unit()\n",
    "\n",
    "probes = tensor_product_list([ground*ground.dag(), excited*excited.dag(), plus*plus.dag(), imag*imag.dag()], repeat=n_qubit)\n",
    "probe_labels = list(product(['0', '1', '+', \"i\"], repeat=n_qubit))\n",
    "\n",
    "#Basis measurement operators\n",
    "pauli_basis_labels = list(product(['I', 'X', 'Y', 'Z'], repeat=n_qubit))\n",
    "pauli_basis = tensor_product_list([qeye(2), sigmax(), sigmay(), sigmaz()], repeat=n_qubit)\n",
    "\n",
    "# Single qubit rotation operators\n",
    "# X -> ry(-pi/2) single qubit rotation about y, Y -> Rotx(pi/2), Z -> Identity\n",
    "# list(product(['X', 'Y', 'Z'], repeat=3))\n",
    "X, Y, Z = ry(-jnp.pi/2), rx(jnp.pi/2), qeye(2)\n",
    "rotations = tensor_product_list([X, Y, Z], repeat=n_qubit)\n",
    "rotation_labels = list(product(['X', 'Y', 'Z'], repeat=n_qubit))"
   ]
  },
  {
   "cell_type": "markdown",
   "metadata": {},
   "source": [
    "# Constructing SPAM Characterized Operators, Initial states and POVMs"
   ]
  },
  {
   "cell_type": "code",
   "execution_count": null,
   "metadata": {},
   "outputs": [],
   "source": [
    "# Constructing the operators reported from the GST experiments\n",
    "\n",
    "# Noisy rotation generators for preparations\n",
    "# Angles for Ry(pi), Ry(pi/2), Rx(-pi/2) \n",
    "q0_angs = [1.00029, 0.510156, 0.509419]\n",
    "q0_axis = [[-0.0065302, 0.9999786, 0.0003137], \n",
    "           [0.110777, 0.9999384, -0.0006218], \n",
    "           [-0.9999167, 0.0129077, 6.2e-6]]\n",
    "\n",
    "q1_angs = [1.000024, 0.514077, 0.514256]\n",
    "q1_axis = [[-0.0051505, 0.9999867, -0.0001557], \n",
    "           [0.0118059, 0.9999303, 0.0003109], \n",
    "           [-0.9999362, 0.112991, 2.4e-6]]\n",
    "\n",
    "q2_angs = [0.999292, 0.506918, 0.505728]\n",
    "q2_axis = [[-0.0037203, 0.9999908, 0.0021185], \n",
    "           [0.0040367, 0.999983, -0.0042045], \n",
    "           [-0.9999944, 0.0033346, -3.8e-6]]\n",
    "\n",
    "# Return noisy rotation operators for each qubit\n",
    "ry_p0, ry_2p0, rx_2m0 = return_rotations(q0_angs, q0_axis)\n",
    "ry_p1, ry_2p1, rx_2m1 = return_rotations(q1_angs, q1_axis)\n",
    "ry_p2, ry_2p2, rx_2m2 = return_rotations(q2_angs, q2_axis)\n",
    "\n",
    "\n",
    "rot_noisy = [list(return_rotations(q0_angs, q0_axis)), list(return_rotations(q1_angs, q1_axis)), list(return_rotations(q2_angs, q2_axis))]\n",
    "\n",
    "# Construct Noisy measurement rotations for tomographyic pulse, the inverse of the pulse is just a 180deg phase shift which implements a perfect virtual-Z gate\n",
    "X0 = ry_2p0.dag()\n",
    "X1 = ry_2p1.dag()\n",
    "X2 = ry_2p2.dag()\n",
    "\n",
    "Y0 = rx_2m0.dag()\n",
    "Y1 = rx_2m1.dag()\n",
    "Y2 = rx_2m2.dag()\n",
    "\n",
    "Z0 = qeye(2)\n",
    "Z1 = qeye(2)\n",
    "Z2 = qeye(2)\n",
    "\n",
    "# Corrected rotation operators for each qubit\n",
    "noisy_rotation_operators = {0:{'X':X0, 'Y':Y0, 'Z':Z0},\n",
    "                                1:{'X':X1, 'Y':Y1, 'Z':Z1},\n",
    "                                2:{'X':X2, 'Y':Y2, 'Z':Z2}}\n",
    "\n",
    "# The tensor product for all rotation operators\n",
    "noisy_rotations = []\n",
    "\n",
    "for p in product(['X', 'Y', 'Z'], repeat=n_qubit):\n",
    "    noisy_rotations.append(tensor(noisy_rotation_operators[0][p[0]],\n",
    "                                  noisy_rotation_operators[1][p[1]],\n",
    "                                  noisy_rotation_operators[2][p[2]]))"
   ]
  },
  {
   "cell_type": "markdown",
   "metadata": {},
   "source": [
    "### State Initialization errors"
   ]
  },
  {
   "cell_type": "code",
   "execution_count": null,
   "metadata": {},
   "outputs": [],
   "source": [
    "#Extracted ground states from single-qubit GST\n",
    "\n",
    "# Removing small off-diagonal elements\n",
    "# g0 = Qobj(np.array([[0.98267, 0.],\n",
    "#                     [0.0, 0.01733]]))\n",
    "\n",
    "# g1 = Qobj(np.array([[0.9786449, 0],\n",
    "#                     [0,0.0213551]]))\n",
    "\n",
    "# g2 = Qobj(np.array([[0.9831357, 0],\n",
    "#                     [0, 0.0168643]]))\n",
    "\n",
    "\n",
    "# Keeping all terms\n",
    "g0 = Qobj(np.array([[0.98267, -0.0011495],\n",
    "                    [0.0007066, 0.01733]]))\n",
    "\n",
    "g1 = Qobj(np.array([[0.9786449, -0.0001291],\n",
    "                    [0.0008762,0.0213551]]))\n",
    "\n",
    "g2 = Qobj(np.array([[0.9831357, -0.0025322],\n",
    "                    [-0.0009186, 0.0168643]]))\n",
    "\n",
    "rhos_in = [g0, g1, g2]\n",
    "#Generate all probe states by applying the noisy rotations to generate the noisy states [0, 1, +, +i]^3\n",
    "noisy_probes = gen_new_probes(rhos_in, rot_noisy)"
   ]
  },
  {
   "cell_type": "markdown",
   "metadata": {},
   "source": [
    "### Correction of measurement by implementing characterized POVMs from GST"
   ]
  },
  {
   "cell_type": "code",
   "execution_count": null,
   "metadata": {},
   "outputs": [],
   "source": [
    "# Removed Small off-diagonal\n",
    "# pi0 = {0:Qobj(np.array([[0.9979474, 0],\n",
    "#                         [0, 0.0293532]]))}\n",
    "# pi0[1] = qt.qeye(2) - pi0[0]\n",
    "\n",
    "\n",
    "# pi1 = {0:Qobj(np.array([[0.9982515, 0],\n",
    "#                         [0, 0.0273934]]))}\n",
    "# pi1[1] = qt.qeye(2) - pi1[0]\n",
    "\n",
    "# pi2 = {0:Qobj(np.array([[0.9959302, 0],\n",
    "#                         [0, 0.0967759]]))}\n",
    "# pi2[1] = qt.qeye(2) - pi2[0]\n",
    "\n",
    "\n",
    "\n",
    "\n",
    "# Full data\n",
    "pi0 = {0:Qobj(np.array([[0.9979474, -0.0010535],\n",
    "                        [0.0012261, 0.0293532]]))}\n",
    "pi0[1] = qt.qeye(2) - pi0[0]\n",
    "\n",
    "\n",
    "pi1 = {0:Qobj(np.array([[0.9982515, -0.0001658],\n",
    "                        [0.0023416, 0.0273934]]))}\n",
    "pi1[1] = qt.qeye(2) - pi1[0]\n",
    "\n",
    "pi2 = {0:Qobj(np.array([[0.9959302, -0.0021059],\n",
    "                        [-0.0013668, 0.0967759]]))}\n",
    "pi2[1] = qt.qeye(2) - pi2[0]\n",
    "\n",
    "# Construct tensor of all measurement projectors\n",
    "noisy_povms = []\n",
    "for i in measurement_idx:\n",
    "    idx = measurement_labels[i]\n",
    "    ind1, ind2, ind3 = int(idx[0]), int(idx[1]), int(idx[2])\n",
    "    noisy_povms.append(tensor(pi0[ind1], pi1[ind2], pi2[ind3]))"
   ]
  },
  {
   "cell_type": "markdown",
   "metadata": {},
   "source": [
    "### Vectorize everything to jax for speedy implementation"
   ]
  },
  {
   "cell_type": "code",
   "execution_count": null,
   "metadata": {},
   "outputs": [],
   "source": [
    "dag_vectorized = vmap(dag)\n",
    "\n",
    "probes = convert_to_jax(probes)\n",
    "noisy_probes = convert_to_jax(noisy_probes)\n",
    "\n",
    "rotations = convert_to_jax(rotations)\n",
    "noisy_rotations = convert_to_jax(noisy_rotations)\n",
    "\n",
    "noisy_povms = convert_to_jax(noisy_povms)\n",
    "\n",
    "pm = convert_to_jax(pauli_basis)\n",
    "pn = dag_vectorized(pm)"
   ]
  },
  {
   "cell_type": "code",
   "execution_count": null,
   "metadata": {},
   "outputs": [],
   "source": [
    "U_ideal = U_CCZS(np.pi/2, targ_phi, 0)\n",
    "\n",
    "# Convert to superoperator\n",
    "Urho_ideal = qt.spre(U_ideal)*qt.spost(U_ideal.dag())\n",
    "\n",
    "# Dimension conversion to make U_ideal work with tensored qubit states (Convert from [8,8]-> [[2,2,2],[2,2,2]])\n",
    "U_ideal.dims = [[2, 2, 2], [2, 2, 2]]\n",
    "\n",
    "# Use qutip for some advance methods later\n",
    "U_ideal_kraus = to_kraus(U_ideal)\n",
    "U_ideal_choi = to_choi(U_ideal)\n",
    "U_ideal_chi = to_chi(U_ideal_choi)\n",
    "\n",
    "# Separate instance of same ideal but as arrays to save object conversion later\n",
    "kraus_ideal_array = jnp.array([U_ideal.full()])\n",
    "choi_ideal_array = Choi(kraus_ideal_array)\n",
    "\n",
    "\n",
    "\n",
    "\n",
    "# Simulate the experimental data with the ideal probes, unitary, and measurements\n",
    "output_states_ideal = apply_process(kraus_ideal_array, probes)\n",
    "final_states_ideal = apply_rotation(output_states_ideal, rotations)\n",
    "data_ideal = jnp.diagonal(final_states_ideal, axis1=2, axis2=3)\n",
    "\n",
    "# Run a simulation using the ideal process with noisy probse, measurements, rotations to generate a null hypothesis data set assuming the ideal CCZS is the \"true\" process\n",
    "output_states_null = apply_process(kraus_ideal_array, noisy_probes)\n",
    "final_states_null = apply_rotation(output_states_null, noisy_rotations)\n",
    "projected_outcomes_null = jnp.einsum('bnij, pkj -> bnpik', final_states_null, noisy_povms)\n",
    "data_null = jnp.trace(projected_outcomes_null, axis1=3, axis2=4)\n"
   ]
  },
  {
   "cell_type": "markdown",
   "metadata": {},
   "source": [
    "### Generate Initial guess by inverting vectorized process matrix and output data"
   ]
  },
  {
   "cell_type": "code",
   "execution_count": null,
   "metadata": {},
   "outputs": [],
   "source": [
    "A0, A = gen_Amat(noisy_probes, noisy_rotations, noisy_povms)\n",
    "\n",
    "rho0 = estimate_process(data_raw, A0, rho_true=choi_ideal_array)"
   ]
  },
  {
   "cell_type": "markdown",
   "metadata": {},
   "source": [
    "### Plot a comparison of the ideal choi matrix and the initial guess"
   ]
  },
  {
   "cell_type": "code",
   "execution_count": null,
   "metadata": {},
   "outputs": [],
   "source": [
    "plot_comparison(choi_ideal_array, rho0)"
   ]
  },
  {
   "cell_type": "markdown",
   "metadata": {},
   "source": [
    "### Perform the PLS reconstruction algorithm"
   ]
  },
  {
   "cell_type": "code",
   "execution_count": null,
   "metadata": {},
   "outputs": [],
   "source": [
    "rho_list, least_ev_pls = run_reconstruction(rho0, choi_ideal_array)"
   ]
  },
  {
   "cell_type": "code",
   "execution_count": null,
   "metadata": {},
   "outputs": [],
   "source": [
    "# Plot the cost function as a function of the number of iterations\n",
    "plt.plot(np.log10(-np.array(least_ev_pls)))\n",
    "plt.tight_layout()\n"
   ]
  },
  {
   "cell_type": "markdown",
   "metadata": {},
   "source": [
    "### Compare Ideal Unitary to the leading order reconstructed Kraus operator"
   ]
  },
  {
   "cell_type": "code",
   "execution_count": null,
   "metadata": {},
   "outputs": [],
   "source": [
    "choi_reconstructed = rho_list[-1][0]*8 # renormalize to dimension\n",
    "choi_reconstructed_qutip = Qobj(choi_reconstructed, dims = [[[2, 2, 2], [2, 2, 2]], [[2, 2, 2], [2, 2, 2]]], superrep='choi')\n",
    "\n",
    "# Save the reconstruction for easy plotting and data processing without needing to rerun\n",
    "# np.save('choi_reconstructed_Phi{}_250ns.npy'.format(phi_id), choi_reconstructed)\n",
    "\n",
    "kraus_reconstructed_qutip = choi_to_kraus(choi_reconstructed_qutip)\n",
    "chi_reconstructed_qutip = to_chi(choi_reconstructed_qutip)\n",
    "\n",
    "hinton_phase(U_ideal_kraus[0], cmap=cm.get_cmap('viridis'))\n",
    "hinton_phase(kraus_reconstructed_qutip[0], cmap=cm.get_cmap('viridis'))"
   ]
  },
  {
   "cell_type": "markdown",
   "metadata": {},
   "source": [
    "### Compare Choi Matrices after running PLS reconstruction"
   ]
  },
  {
   "cell_type": "code",
   "execution_count": null,
   "metadata": {},
   "outputs": [],
   "source": [
    "# Unit the matrices to deal with dimensionality definitions\n",
    "fid = np.round(100*fidelity(chi_reconstructed_qutip.unit(), U_ideal_chi)**2)\n",
    "\n",
    "plot_comparison(choi_ideal_array, choi_reconstructed, title=r\"$\\mathcal{}(U_{})$= {}\".format(r'{F}', r'{CCZS}', fid))"
   ]
  },
  {
   "cell_type": "markdown",
   "metadata": {},
   "source": [
    "# Find the angles that best match the data"
   ]
  },
  {
   "cell_type": "code",
   "execution_count": null,
   "metadata": {},
   "outputs": [],
   "source": [
    "# Residual to minimize\n",
    "\n",
    "def residual(x, data):\n",
    "    # CCZS parameters\n",
    "    theta = x[0]\n",
    "    phi = x[1]\n",
    "    gamma = x[2]\n",
    "    # Local single qubit phase rotations (virtual-Z gates)\n",
    "    z1 = x[3]\n",
    "    z2 = x[4]\n",
    "    z3 = x[5]\n",
    "\n",
    "    Z_rot = tensor([rz(z1*np.pi), rz(z2*np.pi), rz(z3*np.pi)])\n",
    "\n",
    "    U_trial = U_CCZS(theta*np.pi, phi*np.pi, gamma*np.pi)\n",
    "    U_trial.dims = [[2, 2, 2], [2, 2, 2]]\n",
    "    \n",
    "    F = fidelity(to_chi(kraus_to_choi([data])).unit(), to_chi(kraus_to_choi([Z_rot*U_trial])).unit())**2\n",
    "    # Minimize the infidelity\n",
    "    return (1 - F)"
   ]
  },
  {
   "cell_type": "code",
   "execution_count": null,
   "metadata": {},
   "outputs": [],
   "source": [
    "methods = ['Nelder-Mead', 'Powell', 'COBYLA']\n",
    "\n",
    "res = opt.minimize(residual, [0.5, phi_id/4.0, 0, 0, 0, 0],\n",
    "                        args=choi_reconstructed_qutip,\n",
    "                        method=methods[0], tol=1e-16)\n",
    "print(r'Angles (theta, phi, gamma, z1, z2, z3): ', res.x)\n",
    "print(r'Process Fidelity: ', 1-res.fun)"
   ]
  },
  {
   "cell_type": "markdown",
   "metadata": {},
   "source": [
    "# Perform bootstrapping"
   ]
  },
  {
   "cell_type": "code",
   "execution_count": null,
   "metadata": {},
   "outputs": [],
   "source": [
    "from IPython import display\n",
    "live_plot = True\n",
    "\n",
    "\n",
    "bounds = ((-2,2),(-2,2),(-2,2),(-0.05,0.05),(-0.05,0.05),(-0.05,0.05))\n",
    "n_boot = 100  # increase the number of bootstrapping samples for more representative statistics (Note: takes a while to run)\n",
    "n_shots = 10000 # Number of resampling of data points NEEDS to match what was actually measured in experiment\n",
    "\n",
    "\n",
    "F = []\n",
    "F_opt = []\n",
    "angles = []\n",
    "\n",
    "for i in range(n_boot):\n",
    "    # Resample the empirical distribution of the raw data from the process tomography experiment\n",
    "    data_new = resample_data(data_raw, n=n_shots)\n",
    "    # Perform an estimate of the initial choi matrix as we did previously\n",
    "    rho_new = estimate_process(data_new, A0, rho_true=choi_ideal_array)\n",
    "    #run the reconstruction on this newly sampled data\n",
    "    rho_list_new, least_ev_pls_new = run_reconstruction(rho_new, choi_ideal_array)\n",
    "\n",
    "    choi_reconstructed_new = rho_list_new[-1][0]*8\n",
    "    choi_reconstructed_new_qutip = Qobj(choi_reconstructed_new, dims = [[[2, 2, 2], [2, 2, 2]], [[2, 2, 2], [2, 2, 2]]], superrep='choi')\n",
    "\n",
    "    F.append(fidelity(to_chi(choi_reconstructed_new_qutip).unit(), U_ideal_chi)**2)\n",
    "\n",
    "    res_new = opt.minimize(residual,\n",
    "                           [0.5, phi_id/4, 0, 0, 0, 0], # there is sometimes a minus sign that is needed on the phi_id haven't been able to trace it back \n",
    "                           args=choi_reconstructed_new_qutip,\n",
    "                           bounds=bounds,\n",
    "                           method='Powell', tol=1e-16)\n",
    "\n",
    "    angles.append(res_new.x)\n",
    "    F_opt.append(1-res_new.fun)\n",
    "\n",
    "    # For live plotting of the results\n",
    "    if live_plot:\n",
    "        plt.clf()\n",
    "        plt.hist(F, bins='auto', alpha=0.75)\n",
    "        plt.hist(F_opt, bins='auto', alpha=0.75)\n",
    "        plt.title('Sample i={}, last point={:.3f}'.format(i+1, F[-1]*100))\n",
    "        display.display(plt.gcf())\n",
    "        display.clear_output(wait=True) \n",
    "\n",
    "# saving the results for further plotting/post-processing\n",
    "save = False\n",
    "if save:\n",
    "    #Save unoptimized fidelity distribution\n",
    "    np.save(r'BootStrapFidelity_Phi{}_250ns_6param.npy'.format(phi_id), F)\n",
    "    #Save the control error free fidelity\n",
    "    np.save(r'BootStrapOptFidelity_Phi{}_250ns_6param.npy'.format(phi_id), F_opt)\n",
    "    #Save the CCZS angles\n",
    "    np.save(r'BootStrapAngles_Phi{}_250ns_6param.npy'.format(phi_id), angles)\n",
    "    \n",
    "\n",
    "\n"
   ]
  }
 ],
 "metadata": {
  "kernelspec": {
   "display_name": "Python 3.6.8 ('base')",
   "language": "python",
   "name": "python3"
  },
  "language_info": {
   "name": "python",
   "version": "3.6.8"
  },
  "orig_nbformat": 4,
  "vscode": {
   "interpreter": {
    "hash": "39953ae7edd205c5c6f29b73215da5034921279bc5959db3abfe368065212d13"
   }
  }
 },
 "nbformat": 4,
 "nbformat_minor": 2
}
